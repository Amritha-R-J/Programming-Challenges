{
 "cells": [
  {
   "cell_type": "code",
   "execution_count": 1,
   "id": "37691c0b",
   "metadata": {},
   "outputs": [
    {
     "name": "stdout",
     "output_type": "stream",
     "text": [
      "Please enter your name.Lister\n",
      "What is your age?39\n",
      "What is your favourite TV programme?Red Dwarf\n",
      "Lister\n",
      "is\n",
      "39\n",
      "years old and likes\n",
      "Red Dwarf\n"
     ]
    }
   ],
   "source": [
    "#Program 1\n",
    "\n",
    "username = input(\"Please enter your name.\")\n",
    "age = input(\"What is your age?\")\n",
    "fav = input(\"What is your favourite TV programme?\")\n",
    "print(username)\n",
    "print(\"is\")\n",
    "print(age)\n",
    "print(\"years old and likes\")\n",
    "print(fav)"
   ]
  },
  {
   "cell_type": "code",
   "execution_count": 4,
   "id": "6e377273",
   "metadata": {},
   "outputs": [
    {
     "name": "stdout",
     "output_type": "stream",
     "text": [
      "firstname David\n",
      "surname Tennant\n",
      "Tennant David\n"
     ]
    }
   ],
   "source": [
    "#Program 2\n",
    "\n",
    "a = input(\"firstname \")\n",
    "b = input(\"surname \")\n",
    "print(b,a)"
   ]
  },
  {
   "cell_type": "code",
   "execution_count": 6,
   "id": "d5a5a8ff",
   "metadata": {},
   "outputs": [
    {
     "name": "stdout",
     "output_type": "stream",
     "text": [
      "Please enter your name Lister\n",
      "What is your age? 39\n",
      "What is your favourite TV program? Red Dwarf\n",
      "Lister 39\n",
      "Likes watching Red Dwarf\n"
     ]
    }
   ],
   "source": [
    "#Program 3\n",
    "\n",
    "name = input(\"Please enter your name \")\n",
    "age = input(\"What is your age? \")\n",
    "fav = input(\"What is your favourite TV program? \")\n",
    "print(name,age)\n",
    "print(\"Likes watching\",fav)"
   ]
  },
  {
   "cell_type": "code",
   "execution_count": 7,
   "id": "2e7e63d9",
   "metadata": {},
   "outputs": [
    {
     "name": "stdout",
     "output_type": "stream",
     "text": [
      "KY8 9HL\n"
     ]
    }
   ],
   "source": [
    "#Program 4\n",
    "\n",
    "letter1 = \"KY\"\n",
    "number1 = \"8\"\n",
    "number2 = \"9\"\n",
    "letter2 = \"HL\"\n",
    "print(letter1+number1, number2+letter2)"
   ]
  },
  {
   "cell_type": "code",
   "execution_count": 8,
   "id": "f169d267",
   "metadata": {},
   "outputs": [
    {
     "name": "stdout",
     "output_type": "stream",
     "text": [
      "please enter the following values in cm\n",
      "please enter the length of the rectangle 12\n",
      "please enter the width of the rectangle 6\n",
      "The area of the rectangle is :\n",
      "72 square centimetres\n"
     ]
    }
   ],
   "source": [
    "#Program 5\n",
    "\n",
    "print(\"please enter the following values in cm\")\n",
    "l = int(input(\"please enter the length of the rectangle \"))\n",
    "w = int(input(\"please enter the width of the rectangle \"))\n",
    "print(\"The area of the rectangle is :\")\n",
    "print(l*w,\"square centimetres\")"
   ]
  },
  {
   "cell_type": "code",
   "execution_count": 9,
   "id": "c4b58f31",
   "metadata": {},
   "outputs": [
    {
     "name": "stdout",
     "output_type": "stream",
     "text": [
      "2\n",
      "6\n",
      "26\n"
     ]
    }
   ],
   "source": [
    "#Program 6\n",
    "\n",
    "x = str(input())\n",
    "y = str(input())\n",
    "total = x+y\n",
    "print(total)"
   ]
  },
  {
   "cell_type": "code",
   "execution_count": 10,
   "id": "0555c421",
   "metadata": {},
   "outputs": [
    {
     "name": "stdout",
     "output_type": "stream",
     "text": [
      "KY8 9HL\n"
     ]
    }
   ],
   "source": [
    "#Program 7\n",
    "\n",
    "a = \"KY\"\n",
    "b = \"8\"\n",
    "c = \"9\"\n",
    "d = \"hl\"\n",
    "print(a.upper()+b, c+d.upper())"
   ]
  },
  {
   "cell_type": "code",
   "execution_count": 11,
   "id": "85022a64",
   "metadata": {},
   "outputs": [
    {
     "name": "stdout",
     "output_type": "stream",
     "text": [
      "please enter your forename: David\n",
      "please enter your surname Stott\n",
      "There are 10 letters in your name\n"
     ]
    }
   ],
   "source": [
    "#Program 8\n",
    "\n",
    "forename = input(\"please enter your forename: \")\n",
    "surname = input(\"please enter your surname \")\n",
    "n = forename+surname\n",
    "print(\"There are\",len(n), \"letters in your name\")"
   ]
  },
  {
   "cell_type": "code",
   "execution_count": 14,
   "id": "ada3d79e",
   "metadata": {},
   "outputs": [
    {
     "name": "stdout",
     "output_type": "stream",
     "text": [
      "Please enter a sentence of your choice Luke, I am your father\n",
      "Your sentence contained the following:\n",
      "a = 2\n",
      "e = 2\n",
      "i = 1\n",
      "o = 1\n",
      "u = 2\n",
      "This is a total of 8 vowels.\n"
     ]
    }
   ],
   "source": [
    "#Program 9\n",
    "\n",
    "x = \"Please enter a sentence of your choice \"\n",
    "m = input(x)\n",
    "print(\"Your sentence contained the following:\")\n",
    "p = (m.count(\"a\") + m.count(\"A\"))\n",
    "print(\"a =\",p)\n",
    "q = (m.count(\"e\") + m.count(\"E\"))\n",
    "print(\"e =\",q)\n",
    "r = (m.count(\"i\") + m.count(\"I\"))\n",
    "print(\"i =\",r)\n",
    "s = (m.count(\"o\") + m.count(\"O\"))\n",
    "print(\"o =\",s)\n",
    "t = (m.count(\"u\") + m.count(\"U\"))\n",
    "print(\"u =\",t)\n",
    "total = p+q+r+s+t\n",
    "print(\"This is a total of\",total,\"vowels.\")"
   ]
  },
  {
   "cell_type": "code",
   "execution_count": 15,
   "id": "4b61bd6c",
   "metadata": {},
   "outputs": [
    {
     "name": "stdout",
     "output_type": "stream",
     "text": [
      "Please enter the male report. He should always ensure that his answers contain as much detail as possible.\n",
      "The female comment is:\n",
      "She should always ensure that her answers contain as much detail as possible.\n"
     ]
    }
   ],
   "source": [
    "#Program 10\n",
    "\n",
    "x = input(\"Please enter the male report. \")\n",
    "new = x.replace(\"He\",\"She\")\n",
    "new2 = new.replace(\"his\",\"her\")\n",
    "print(\"The female comment is:\")\n",
    "print(new2)\n"
   ]
  },
  {
   "cell_type": "code",
   "execution_count": 16,
   "id": "d2be1fb9",
   "metadata": {
    "scrolled": true
   },
   "outputs": [
    {
     "name": "stdout",
     "output_type": "stream",
     "text": [
      "Please enter the product name. Plaza Beans\n",
      "Please enter the year. 2016\n",
      "Plns26\n"
     ]
    }
   ],
   "source": [
    "#Program 11\n",
    "\n",
    "x = input(\"Please enter the product name. \")\n",
    "y = input(\"Please enter the year. \")\n",
    "code1 = x[0:2]\n",
    "code2 = x[-2:] \n",
    "code3 = y[0:1]\n",
    "code4 = y[-1:]\n",
    "print(code1+code2+code3+code4)"
   ]
  },
  {
   "cell_type": "code",
   "execution_count": 19,
   "id": "8418dbbc",
   "metadata": {},
   "outputs": [
    {
     "name": "stdout",
     "output_type": "stream",
     "text": [
      "Please enter your three costs.\n",
      "12.78\n",
      "6.32\n",
      "34.99\n",
      "The total cost is 54.09\n",
      "The auction companies\n",
      "fee is 5.0\n"
     ]
    }
   ],
   "source": [
    "#Program 12\n",
    "\n",
    "x = \"Please enter your three costs.\"\n",
    "print(x)\n",
    "a = float(input())\n",
    "b = float(input())\n",
    "c = float(input())\n",
    "total = a+b+c\n",
    "p = total*(10/100)\n",
    "q = round(p,0)\n",
    "print(\"The total cost is\",total)\n",
    "print(\"The auction companies\")\n",
    "print(\"fee is\",q)"
   ]
  },
  {
   "cell_type": "code",
   "execution_count": 20,
   "id": "290e06e6",
   "metadata": {},
   "outputs": [
    {
     "name": "stdout",
     "output_type": "stream",
     "text": [
      "Please enter the following value in cm.\n",
      "Please enter the radius of the circle.\n",
      "16\n",
      "The area of the circle is:\n",
      "803.84 square centimetres\n"
     ]
    }
   ],
   "source": [
    "#Program 13\n",
    "\n",
    "print(\"Please enter the following value in cm.\")\n",
    "radius = \"Please enter the radius of the circle.\"\n",
    "print(radius)\n",
    "radius = float(input())\n",
    "r = pow(radius,2)\n",
    "area = 3.14*r\n",
    "print(\"The area of the circle is:\")\n",
    "print(area,\"square centimetres\")"
   ]
  },
  {
   "cell_type": "code",
   "execution_count": 21,
   "id": "93401d98",
   "metadata": {},
   "outputs": [
    {
     "name": "stdout",
     "output_type": "stream",
     "text": [
      "Please enter the volume of the jar (cm3): 2712.96\n",
      "Please enter the volume of one sweet (cm3): 2.12\n",
      "1279 sweets fit into the jar.\n"
     ]
    }
   ],
   "source": [
    "#Program 14\n",
    "\n",
    "a = float(input(\"Please enter the volume of the jar (cm3): \"))\n",
    "b = float(input(\"Please enter the volume of one sweet (cm3): \"))\n",
    "total = int(a/b)\n",
    "print(total,\"sweets fit into the jar.\")"
   ]
  },
  {
   "cell_type": "code",
   "execution_count": 23,
   "id": "4b100175",
   "metadata": {},
   "outputs": [
    {
     "name": "stdout",
     "output_type": "stream",
     "text": [
      "Enter the area in m2 to be painted 178\n",
      "Enter the area (m2) that a single pot covers 25\n",
      "You will need 8 pots of paint.\n",
      "You can paint 3 m2 with the leftover paint\n"
     ]
    }
   ],
   "source": [
    "#Program 15\n",
    "\n",
    "a = int(input(\"Enter the area in m2 to be painted \"))\n",
    "b = int(input(\"Enter the area (m2) that a single pot covers \"))\n",
    "import math\n",
    "p = math.ceil(a/b)\n",
    "print(\"You will need\",p,\"pots of paint.\")\n",
    "r = p-(a/b)\n",
    "q = (r/8)*100\n",
    "s = math.ceil((25*q)/100)\n",
    "print(\"You can paint\",s,\"m2 with the leftover paint\")"
   ]
  },
  {
   "cell_type": "code",
   "execution_count": 24,
   "id": "6f8711d9",
   "metadata": {},
   "outputs": [
    {
     "name": "stdout",
     "output_type": "stream",
     "text": [
      "Please enter the length of a brick in cm: 20\n",
      "Please enter the length of a wall in m: 9.89\n",
      "47 bricks build one row of wall\n",
      "This is 2 cm short of the required wall length\n"
     ]
    }
   ],
   "source": [
    "#Program 16\n",
    "\n",
    "brick = int(input(\"Please enter the length of a brick in cm: \"))\n",
    "wall = float(input(\"Please enter the length of a wall in m: \"))\n",
    "t = brick+1\n",
    "a = round((wall*100)/t)\n",
    "print(a,\"bricks build one row of wall\")\n",
    "x = round((wall*100)/20)-a\n",
    "print(\"This is\",x,\"cm short of the required wall length\")"
   ]
  },
  {
   "cell_type": "code",
   "execution_count": 26,
   "id": "0324f850",
   "metadata": {},
   "outputs": [
    {
     "name": "stdout",
     "output_type": "stream",
     "text": [
      "Enter the number of carbon atoms. 3\n",
      "The atomic mass of C3H8 is 44\n"
     ]
    }
   ],
   "source": [
    "#Program 17\n",
    "\n",
    "c =int(input(\"Enter the number of carbon atoms. \"))\n",
    "h = (c*2)+2\n",
    "atomic_weight = (c*12)+h\n",
    "print(\"The atomic mass of C3H8 is\",atomic_weight)"
   ]
  },
  {
   "cell_type": "code",
   "execution_count": 27,
   "id": "f290a4cb",
   "metadata": {},
   "outputs": [
    {
     "name": "stdout",
     "output_type": "stream",
     "text": [
      "How many par 3 holes are there? 6\n",
      "How many par 4 holes are there? 10\n",
      "How many par 5 holes are there? 2\n",
      "What is the difficulty adjustment for the course? -2\n",
      "The standard scratch score for the course is:\n",
      "66\n"
     ]
    }
   ],
   "source": [
    "#Program 18\n",
    "\n",
    "a = int(input(\"How many par 3 holes are there? \"))\n",
    "b =int(input(\"How many par 4 holes are there? \"))\n",
    "c = int(input(\"How many par 5 holes are there? \"))\n",
    "d = int(input(\"What is the difficulty adjustment for the course? \"))\n",
    "e = a*3\n",
    "f = b*4\n",
    "g = c*5\n",
    "total = (e+f+g+d)\n",
    "print(\"The standard scratch score for the course is:\")\n",
    "print(total)"
   ]
  },
  {
   "cell_type": "code",
   "execution_count": 29,
   "id": "345e7cc9",
   "metadata": {},
   "outputs": [
    {
     "name": "stdout",
     "output_type": "stream",
     "text": [
      "What is the circumference of your wheel in millimetres? 1250\n",
      "How many wheel revolutions have taken place in your journey? 8920\n",
      "How many minutes did you cycle for 30\n",
      "You covered 11.15 km.\n",
      "At an average speed of 22.3 kmh\n"
     ]
    }
   ],
   "source": [
    "#Program 19\n",
    "\n",
    "x = int(input(\"What is the circumference of your wheel in millimetres? \"))\n",
    "y = int(input(\"How many wheel revolutions have taken place in your journey? \"))\n",
    "z = int(input(\"How many minutes did you cycle for \"))\n",
    "distance = y*x\n",
    "distance1 = distance/(1000*1000)\n",
    "time = z/60\n",
    "speed = distance1/time\n",
    "print(\"You covered\",distance1,\"km.\")\n",
    "print(\"At an average speed of\",speed,\"kmh\")"
   ]
  },
  {
   "cell_type": "code",
   "execution_count": 1,
   "id": "41f23173",
   "metadata": {},
   "outputs": [
    {
     "name": "stdout",
     "output_type": "stream",
     "text": [
      "Would you like some advice? Y\n",
      "Always know where your towel is.\n"
     ]
    }
   ],
   "source": [
    "#Program 20\n",
    "\n",
    "advice = str(input(\"Would you like some advice? \"))\n",
    "if advice == \"Y\":\n",
    "    print(\"Always know where your towel is.\")"
   ]
  },
  {
   "cell_type": "code",
   "execution_count": 2,
   "id": "37c2fa0d",
   "metadata": {},
   "outputs": [
    {
     "name": "stdout",
     "output_type": "stream",
     "text": [
      "What is Black's score? 88\n",
      "What is White's score? 84\n",
      "After 6.5 is added the score is:\n",
      "Black = 88\n",
      "White = 90.5\n",
      "White is the winner.\n"
     ]
    }
   ],
   "source": [
    "#Program 21\n",
    "\n",
    "x = int(input(\"What is Black's score? \"))\n",
    "y = int(input(\"What is White's score? \"))\n",
    "y1 = y + 6.5\n",
    "print(\"After 6.5 is added the score is:\")\n",
    "print(\"Black =\",x)\n",
    "print(\"White =\",y1)\n",
    "if y1 > x:\n",
    "  print(\"White is the winner.\")"
   ]
  },
  {
   "cell_type": "code",
   "execution_count": 3,
   "id": "a9515af0",
   "metadata": {},
   "outputs": [
    {
     "name": "stdout",
     "output_type": "stream",
     "text": [
      "Please enter the first amount raised.398\n",
      "Please enter the second amount raised.193\n",
      "Please enter the third amount raised.478\n",
      "A total of 1069 was raised.\n",
      "This will be doubled to 2138\n"
     ]
    }
   ],
   "source": [
    "#Program 22\n",
    "\n",
    "amount1 = int(input(\"Please enter the first amount raised.\")) \n",
    "amount2 = int(input(\"Please enter the second amount raised.\"))\n",
    "amount3 = int(input(\"Please enter the third amount raised.\"))\n",
    "total = amount1 + amount2 + amount3\n",
    "print(\"A total of\",total,\"was raised.\")\n",
    "if total >= 1000:\n",
    "    total2 = total * 2\n",
    "print(\"This will be doubled to\",total2)"
   ]
  },
  {
   "cell_type": "code",
   "execution_count": 4,
   "id": "0512c84a",
   "metadata": {},
   "outputs": [
    {
     "name": "stdout",
     "output_type": "stream",
     "text": [
      "Please enter the length of rectangle 1 12\n",
      "Please enter the width of rectangle 1 6\n",
      "Please enter the length of rectangle 2 7\n",
      "Please enter the width of rectangle 2 9\n",
      "Rectangle 1 has the largest area\n"
     ]
    }
   ],
   "source": [
    "#Program 23\n",
    "\n",
    "l1 = int(input(\"Please enter the length of rectangle 1 \"))\n",
    "w1 = int(input(\"Please enter the width of rectangle 1 \"))\n",
    "l2 = int(input(\"Please enter the length of rectangle 2 \"))\n",
    "w2 = int(input(\"Please enter the width of rectangle 2 \"))\n",
    "a1 = l1*w1\n",
    "a2 = l2*w2\n",
    "if a1 > a2:\n",
    "    print(\"Rectangle 1 has the largest area\")"
   ]
  },
  {
   "cell_type": "code",
   "execution_count": 5,
   "id": "5635f7c0",
   "metadata": {},
   "outputs": [
    {
     "name": "stdout",
     "output_type": "stream",
     "text": [
      "Please enter sentence 1 You can't handle the truth!\n",
      "Please enter sentence 2 Houston, we have a problem.\n",
      "The percentage of vowels in sentence 1 is: 25.925925925925927\n",
      "The percentage of vowels in sentence 2 is: 33.333333333333336\n",
      "Sentence 1 has 7 vowels.\n",
      "Sentence 2 has 9 vowels.\n",
      "Sentence 2 has more vowels\n"
     ]
    }
   ],
   "source": [
    "#Program 24\n",
    "\n",
    "a = str(input(\"Please enter sentence 1 \"))\n",
    "b = str(input(\"Please enter sentence 2 \"))\n",
    "c = a.count(\"a\")+a.count(\"e\")+a.count(\"i\")+a.count(\"o\")+a.count(\"u\")+a.count(\"A\")+a.count(\"E\")+a.count(\"I\")+a.count(\"O\")+a.count(\"U\")\n",
    "c2 = b.count(\"a\")+b.count(\"e\")+b.count(\"i\")+b.count(\"o\")+b.count(\"u\")+b.count(\"A\")+b.count(\"E\")+b.count(\"I\")+b.count(\"O\")+b.count(\"U\")\n",
    "c3 = len(a)\n",
    "c4 = len(b)\n",
    "p1 = (100/c3)*c\n",
    "p2 = (100/c4)*c2\n",
    "print(\"The percentage of vowels in sentence 1 is:\", p1)\n",
    "print(\"The percentage of vowels in sentence 2 is:\", p2)\n",
    "print(\"Sentence 1 has\",c,\"vowels.\")\n",
    "print(\"Sentence 2 has\",c2,\"vowels.\")\n",
    "if c2 > c:\n",
    "    print(\"Sentence 2 has more vowels\")\n",
    "else:\n",
    "    print(\"Sentence 1 has more vowels\")"
   ]
  },
  {
   "cell_type": "code",
   "execution_count": 7,
   "id": "7367d439",
   "metadata": {},
   "outputs": [
    {
     "name": "stdout",
     "output_type": "stream",
     "text": [
      "Would you like some advice? D\n",
      "Sorry, you were asked to enter Y or N.\n"
     ]
    }
   ],
   "source": [
    "#Program 25\n",
    "\n",
    "advice_1 = str(input(\"Would you like some advice? \" ))\n",
    "if advice_1 == \"Y\":\n",
    "    print(\"Always know where your towel is.\")\n",
    "if advice_1 == \"N\":\n",
    "    print(\"Do not dance in your office.\")\n",
    "if not(advice_1 == \"Y\" or advice_1 == \"N\"):\n",
    "    print(\"Sorry, you were asked to enter Y or N.\")"
   ]
  },
  {
   "cell_type": "code",
   "execution_count": 10,
   "id": "1469a65e",
   "metadata": {},
   "outputs": [
    {
     "name": "stdout",
     "output_type": "stream",
     "text": [
      "Please enter the test speed (mph). 50\n",
      "Please enter the tested stopping distance (m). 39.7\n",
      "Your car failed the breaking distance test.\n"
     ]
    }
   ],
   "source": [
    "#Program 26\n",
    "\n",
    "speed = int(input(\"Please enter the test speed (mph). \"))\n",
    "dis = float(input(\"Please enter the tested stopping distance (m). \"))\n",
    "dist = round(dis)\n",
    "if speed == 30 and dist <= 14:\n",
    "    print(\"Your car passed the braking distance test.\")\n",
    "if speed == 50 and dist <= 38:\n",
    "    print(\"Your car passed the braking distance test.\")\n",
    "else:\n",
    "    print(\"Your car failed the breaking distance test.\")"
   ]
  },
  {
   "cell_type": "code",
   "execution_count": 11,
   "id": "a948bcd7",
   "metadata": {},
   "outputs": [
    {
     "name": "stdout",
     "output_type": "stream",
     "text": [
      "Please enter the first amount raised. 740\n",
      "Please enter the second amount raised. 690\n",
      "Please enter the third amount raised. 1024\n",
      "A total of 2454 was raised.\n",
      "With the company bonus, this is 4454\n"
     ]
    }
   ],
   "source": [
    "#Program 27\n",
    "\n",
    "a = int(input(\"Please enter the first amount raised. \"))\n",
    "b = int(input(\"Please enter the second amount raised. \"))\n",
    "c = int(input(\"Please enter the third amount raised. \"))\n",
    "total = a+b+c\n",
    "print(\"A total of\",total,\"was raised.\")\n",
    "if total < 1000:\n",
    "    total = total + 100\n",
    "if total > 1000 and total < 2000:\n",
    "    total = total*2\n",
    "if total > 2000:\n",
    "    total = 2000*2 + (total - 2000)\n",
    "print(\"With the company bonus, this is\",total)"
   ]
  },
  {
   "cell_type": "code",
   "execution_count": 12,
   "id": "0aa6f493",
   "metadata": {},
   "outputs": [
    {
     "name": "stdout",
     "output_type": "stream",
     "text": [
      "Which sentence would you like copied? Don't behave like a muppet in class.\n",
      "Don't behave like a muppet in class.\n",
      "Don't behave like a muppet in class.\n",
      "Don't behave like a muppet in class.\n",
      "Don't behave like a muppet in class.\n",
      "Don't behave like a muppet in class.\n",
      "Don't behave like a muppet in class.\n",
      "Don't behave like a muppet in class.\n",
      "Don't behave like a muppet in class.\n",
      "Don't behave like a muppet in class.\n",
      "Don't behave like a muppet in class.\n",
      "Don't behave like a muppet in class.\n",
      "Don't behave like a muppet in class.\n",
      "Don't behave like a muppet in class.\n",
      "Don't behave like a muppet in class.\n",
      "Don't behave like a muppet in class.\n",
      "Don't behave like a muppet in class.\n",
      "Don't behave like a muppet in class.\n",
      "Don't behave like a muppet in class.\n",
      "Don't behave like a muppet in class.\n",
      "Don't behave like a muppet in class.\n"
     ]
    }
   ],
   "source": [
    "#Program 28\n",
    "\n",
    "code = str(input(\"Which sentence would you like copied? \"))\n",
    "for counter in range(20):\n",
    "    print(code)"
   ]
  },
  {
   "cell_type": "code",
   "execution_count": 13,
   "id": "6c626fe1",
   "metadata": {},
   "outputs": [
    {
     "name": "stdout",
     "output_type": "stream",
     "text": [
      "Please enter the first amount raised.398\n",
      "Please enter the second amount raised.193\n",
      "Please enter the third amount raised.478\n",
      "A total of 1069 was raised.\n",
      "This will be doubled to:\n",
      "2138 !!!\n",
      "2138 !!!\n",
      "2138 !!!\n"
     ]
    }
   ],
   "source": [
    "#Program 29\n",
    "\n",
    "amount1 = int(input(\"Please enter the first amount raised.\")) \n",
    "amount2 = int(input(\"Please enter the second amount raised.\"))\n",
    "amount3 = int(input(\"Please enter the third amount raised.\"))\n",
    "total = amount1 + amount2 + amount3\n",
    "print(\"A total of\",total,\"was raised.\")\n",
    "if total >= 1000:\n",
    "    total2 = total * 2\n",
    "print(\"This will be doubled to:\")\n",
    "for counter in range(3):\n",
    "    print(total2,\"!!!\")"
   ]
  },
  {
   "cell_type": "code",
   "execution_count": 14,
   "id": "49658635",
   "metadata": {},
   "outputs": [
    {
     "name": "stdout",
     "output_type": "stream",
     "text": [
      "Please enter first name: Matt\n",
      "Please enter surname: Reid\n",
      "M R MATT reid MattReid\n",
      "MattReid REID matt r m\n",
      "M R MATT reid MattReid\n",
      "MattReid REID matt r m\n",
      "M R MATT reid MattReid\n",
      "MattReid REID matt r m\n"
     ]
    }
   ],
   "source": [
    "#Program 30\n",
    "\n",
    "firstName = str(input(\"Please enter first name: \"))\n",
    "surName = str(input(\"Please enter surname: \"))\n",
    "for counter in range(0,3):\n",
    "    print(firstName[0:1],surName[0:1],firstName.upper(),surName.lower(),firstName+surName)\n",
    "    print(firstName+surName,surName.upper(),firstName.lower(),surName[0:1].lower(),firstName[0:1].lower())"
   ]
  },
  {
   "cell_type": "code",
   "execution_count": 15,
   "id": "009039e8",
   "metadata": {},
   "outputs": [
    {
     "name": "stdout",
     "output_type": "stream",
     "text": [
      "Please enter the score for each ball\n",
      "0\n",
      "2\n",
      "0\n",
      "0\n",
      "4\n",
      "6\n",
      "This over's score was: 12\n"
     ]
    }
   ],
   "source": [
    "#Program 31\n",
    "\n",
    "print(\"Please enter the score for each ball\")\n",
    "sum = 0\n",
    "for counter in range(6):\n",
    "    s = int(input())\n",
    "    sum = sum+s\n",
    "print(\"This over's score was:\",sum)"
   ]
  },
  {
   "cell_type": "code",
   "execution_count": 16,
   "id": "35e77ce2",
   "metadata": {},
   "outputs": [
    {
     "name": "stdout",
     "output_type": "stream",
     "text": [
      "Please enter the seven temperatures.\n",
      "12\n",
      "14\n",
      "7\n",
      "6\n",
      "7\n",
      "11\n",
      "11\n",
      "This week's average was:\n",
      "9.71 degrees centigrade\n"
     ]
    }
   ],
   "source": [
    "#Program 32\n",
    "\n",
    "print(\"Please enter the seven temperatures.\")\n",
    "sum = 0\n",
    "for loop in range(7):\n",
    "    k = int(input())\n",
    "    sum = sum+k\n",
    "sum2 = sum/7\n",
    "sum2 = round(sum2,2)\n",
    "print(\"This week's average was:\")\n",
    "print(sum2,\"degrees centigrade\")"
   ]
  },
  {
   "cell_type": "code",
   "execution_count": 17,
   "id": "c1d9468a",
   "metadata": {},
   "outputs": [
    {
     "name": "stdout",
     "output_type": "stream",
     "text": [
      "Which sentence would you liked copied? Mr Reid is the best teacher.\n",
      "How many times would you like this copied? 54\n",
      "Mr Reid is the best teacher.\n",
      "Mr Reid is the best teacher.\n",
      "Mr Reid is the best teacher.\n",
      "Mr Reid is the best teacher.\n",
      "Mr Reid is the best teacher.\n",
      "Mr Reid is the best teacher.\n",
      "Mr Reid is the best teacher.\n",
      "Mr Reid is the best teacher.\n",
      "Mr Reid is the best teacher.\n",
      "Mr Reid is the best teacher.\n",
      "Mr Reid is the best teacher.\n",
      "Mr Reid is the best teacher.\n",
      "Mr Reid is the best teacher.\n",
      "Mr Reid is the best teacher.\n",
      "Mr Reid is the best teacher.\n",
      "Mr Reid is the best teacher.\n",
      "Mr Reid is the best teacher.\n",
      "Mr Reid is the best teacher.\n",
      "Mr Reid is the best teacher.\n",
      "Mr Reid is the best teacher.\n",
      "Mr Reid is the best teacher.\n",
      "Mr Reid is the best teacher.\n",
      "Mr Reid is the best teacher.\n",
      "Mr Reid is the best teacher.\n",
      "Mr Reid is the best teacher.\n",
      "Mr Reid is the best teacher.\n",
      "Mr Reid is the best teacher.\n",
      "Mr Reid is the best teacher.\n",
      "Mr Reid is the best teacher.\n",
      "Mr Reid is the best teacher.\n",
      "Mr Reid is the best teacher.\n",
      "Mr Reid is the best teacher.\n",
      "Mr Reid is the best teacher.\n",
      "Mr Reid is the best teacher.\n",
      "Mr Reid is the best teacher.\n",
      "Mr Reid is the best teacher.\n",
      "Mr Reid is the best teacher.\n",
      "Mr Reid is the best teacher.\n",
      "Mr Reid is the best teacher.\n",
      "Mr Reid is the best teacher.\n",
      "Mr Reid is the best teacher.\n",
      "Mr Reid is the best teacher.\n",
      "Mr Reid is the best teacher.\n",
      "Mr Reid is the best teacher.\n",
      "Mr Reid is the best teacher.\n",
      "Mr Reid is the best teacher.\n",
      "Mr Reid is the best teacher.\n",
      "Mr Reid is the best teacher.\n",
      "Mr Reid is the best teacher.\n",
      "Mr Reid is the best teacher.\n",
      "Mr Reid is the best teacher.\n",
      "Mr Reid is the best teacher.\n",
      "Mr Reid is the best teacher.\n",
      "Mr Reid is the best teacher.\n"
     ]
    }
   ],
   "source": [
    "#Program 33\n",
    "\n",
    "sen = str(input(\"Which sentence would you liked copied? \"))\n",
    "times = int(input(\"How many times would you like this copied? \"))\n",
    "for counter in range(times):\n",
    "    print(sen)"
   ]
  },
  {
   "cell_type": "code",
   "execution_count": 19,
   "id": "50f6cb4b",
   "metadata": {},
   "outputs": [
    {
     "name": "stdout",
     "output_type": "stream",
     "text": [
      "How many charity raisers were there? 6\n",
      "Enter the total raised by each:\n",
      "238\n",
      "624\n",
      "546\n",
      "333\n",
      "651\n",
      "174\n",
      "A total of 2566 was raised.\n",
      "This will be increased to:\n",
      "5132 !!!\n",
      "5132 !!!\n",
      "5132 !!!\n"
     ]
    }
   ],
   "source": [
    "#Program 34\n",
    "\n",
    "r = int(input(\"How many charity raisers were there? \"))\n",
    "print(\"Enter the total raised by each:\")\n",
    "sum = 0\n",
    "for counter in range(6):\n",
    "    n =int(input())\n",
    "    sum = sum+n\n",
    "print(\"A total of\",sum,\"was raised.\")\n",
    "print(\"This will be increased to:\")\n",
    "if sum>=1000:\n",
    "    sum2 = sum*2\n",
    "for counter in range(3):\n",
    "    print(sum2,\"!!!\")"
   ]
  },
  {
   "cell_type": "code",
   "execution_count": 21,
   "id": "1d8902c7",
   "metadata": {},
   "outputs": [
    {
     "name": "stdout",
     "output_type": "stream",
     "text": [
      "please enter the number of students: 3\n",
      "Enter the time in seconds for each student\n",
      "student 1\n",
      "82\n",
      "student 2\n",
      "67\n",
      "student 3\n",
      "45\n",
      "The average time for the 3 students was:\n",
      "64.67 seconds\n"
     ]
    }
   ],
   "source": [
    "#Program 35\n",
    "\n",
    "n = int(input(\"please enter the number of students: \"))\n",
    "print(\"Enter the time in seconds for each student\")\n",
    "k = 0\n",
    "for counter in range(1,n+1):\n",
    "    print(\"student\",counter)\n",
    "    t = int(input())\n",
    "    k = k+t\n",
    "k1 = k/n\n",
    "k2 = round(k1,2)\n",
    "print(\"The average time for the\",n,\"students was:\")\n",
    "print(k2,\"seconds\")"
   ]
  },
  {
   "cell_type": "code",
   "execution_count": 22,
   "id": "cd4a527d",
   "metadata": {},
   "outputs": [
    {
     "name": "stdout",
     "output_type": "stream",
     "text": [
      "Odd Numbers List\n",
      "1\n",
      "3\n",
      "5\n",
      "7\n",
      "9\n",
      "11\n"
     ]
    }
   ],
   "source": [
    "#Program 36\n",
    "\n",
    "print(\"Odd Numbers List\")\n",
    "for counter in range(1,12):\n",
    "    if counter%2 != 0:\n",
    "        print(counter)"
   ]
  },
  {
   "cell_type": "code",
   "execution_count": 24,
   "id": "50306ead",
   "metadata": {},
   "outputs": [
    {
     "name": "stdout",
     "output_type": "stream",
     "text": [
      "The following program will display odd numbers.\n",
      "Enter the first number in the list 5\n",
      "Enter the last number in the list 13\n",
      "5\n",
      "7\n",
      "9\n",
      "11\n",
      "13\n"
     ]
    }
   ],
   "source": [
    "#Program 37\n",
    "\n",
    "print(\"The following program will display odd numbers.\")\n",
    "a = int(input(\"Enter the first number in the list \"))\n",
    "b = int(input(\"Enter the last number in the list \"))\n",
    "for counter in range(a,b+1):\n",
    "    if counter%2 != 0:\n",
    "        print(counter)"
   ]
  },
  {
   "cell_type": "code",
   "execution_count": 26,
   "id": "509d6908",
   "metadata": {},
   "outputs": [
    {
     "name": "stdout",
     "output_type": "stream",
     "text": [
      "Please enter the password snool\n",
      "Sorry, incorrect! Try again.\n",
      "Please enter the password ornery\n",
      "Entry gained\n"
     ]
    }
   ],
   "source": [
    "#Program 38\n",
    "\n",
    "password = input(\"Please enter the password \")\n",
    "while password != \"ornery\":\n",
    "    print(\"Sorry, incorrect! Try again.\")\n",
    "    password = input(\"Please enter the password \")\n",
    "if password == \"ornery\":\n",
    "    print(\"Entry gained\")"
   ]
  },
  {
   "cell_type": "code",
   "execution_count": 27,
   "id": "886dca74",
   "metadata": {},
   "outputs": [
    {
     "name": "stdout",
     "output_type": "stream",
     "text": [
      "The following program will display odd numbers.\n",
      "Enter the first number in the list 5\n",
      "Enter the last number in the list 17\n",
      "Sorry, the number must be atleast 5 + 20\n",
      "Please re-enter the number27\n",
      "Odd Numbers List\n",
      "5\n",
      "7\n",
      "9\n",
      "11\n",
      "13\n",
      "15\n",
      "17\n",
      "19\n",
      "21\n",
      "23\n",
      "25\n"
     ]
    }
   ],
   "source": [
    "#Program 39\n",
    "\n",
    "print(\"The following program will display odd numbers.\")\n",
    "a = int(input(\"Enter the first number in the list \"))\n",
    "b = int(input(\"Enter the last number in the list \"))\n",
    "c = a + 20\n",
    "while not (b>=c):\n",
    "    print(\"Sorry, the number must be atleast\",a,\"+ 20\")\n",
    "    b = int(input(\"Please re-enter the number\"))\n",
    "    \n",
    "if b>a+20:\n",
    "    print(\"Odd Numbers List\")\n",
    "    for counter in range(a,b):\n",
    "        if counter%2 != 0:\n",
    "            print(counter)\n",
    "    "
   ]
  },
  {
   "cell_type": "code",
   "execution_count": 28,
   "id": "c91cd188",
   "metadata": {},
   "outputs": [
    {
     "name": "stdout",
     "output_type": "stream",
     "text": [
      "Would you like some advice? H\n",
      "Please enter Y or N only\n",
      "Would you like some advice? N\n",
      "Don't be silly. You definitely need advice!\n",
      "Would you like some advice? Y\n",
      "Don't feed the trolls!\n"
     ]
    }
   ],
   "source": [
    "#Program 40\n",
    "\n",
    "k = input(\"Would you like some advice? \")\n",
    "while (k != \"Y\" and k!= \"N\"):\n",
    "    print(\"Please enter Y or N only\")\n",
    "    k = input(\"Would you like some advice? \")\n",
    "    if k == \"N\":\n",
    "        print(\"Don't be silly. You definitely need advice!\")\n",
    "    k = input(\"Would you like some advice? \")\n",
    "    if k == \"Y\":\n",
    "        print(\"Don't feed the trolls!\")"
   ]
  },
  {
   "cell_type": "code",
   "execution_count": 3,
   "id": "af9103d7",
   "metadata": {},
   "outputs": [
    {
     "name": "stdout",
     "output_type": "stream",
     "text": [
      "Please enter the price of each present:\n",
      "35\n",
      "100\n",
      "50\n",
      "45\n",
      "Limit exceeded.\n",
      "You can't include the 45 present.\n"
     ]
    }
   ],
   "source": [
    "#Program 41\n",
    "\n",
    "print(\"Please enter the price of each present:\")\n",
    "sum = 0\n",
    "while not sum>200:\n",
    "    k = int(input())\n",
    "    sum = sum + k\n",
    "if sum>200:\n",
    "    print(\"Limit exceeded.\")\n",
    "    print(\"You can't include the\",k,\"present.\")"
   ]
  },
  {
   "cell_type": "code",
   "execution_count": 5,
   "id": "8c43540b",
   "metadata": {},
   "outputs": [
    {
     "name": "stdout",
     "output_type": "stream",
     "text": [
      "Enter your menu choice (Q ,A,K or L) a\n",
      "A selected\n"
     ]
    }
   ],
   "source": [
    "#Program 42\n",
    "\n",
    "z = input(\"Enter your menu choice (Q ,A,K or L) \")\n",
    "if z == \"Q\" or z==\"q\" or z==\"A\" or z==\"a\" or z==\"K\" or z==\"k\" or z==\"L\" or z==\"l\":\n",
    "    print(z.upper(),\"selected\")"
   ]
  },
  {
   "cell_type": "code",
   "execution_count": 7,
   "id": "9968642b",
   "metadata": {},
   "outputs": [
    {
     "name": "stdout",
     "output_type": "stream",
     "text": [
      "Enter your menu choice (Q, A, K or L) V\n",
      "V is not valid. Enter Q, A, K or L\n",
      "L\n",
      "L selected\n"
     ]
    }
   ],
   "source": [
    "#Program 42\n",
    "\n",
    "z = input(\"Enter your menu choice (Q, A, K or L) \")\n",
    "while not(z==\"Q\" or z==\"q\" or z==\"A\" or z==\"a\" or z==\"K\" or z==\"k\" or z==\"L\" or z==\"l\"):\n",
    "    print(z,\"is not valid. Enter Q, A, K or L\")\n",
    "    z = input()\n",
    "    if z==\"Q\" or z==\"q\" or z==\"A\" or z==\"a\" or z==\"K\" or z==\"k\" or z==\"L\" or z==\"l\":\n",
    "        print(z.upper(),\"selected\")"
   ]
  },
  {
   "cell_type": "code",
   "execution_count": 10,
   "id": "e7b19157",
   "metadata": {},
   "outputs": [
    {
     "name": "stdout",
     "output_type": "stream",
     "text": [
      "Guess the hidden number between 1 and 100.\n",
      "Enter your guess112\n",
      "Your guess was not valid. Enter it again\n",
      "67\n",
      "Your guess is too high. Try again\n",
      "50\n",
      "Your guess is too low. Try again\n",
      "52\n",
      "Correct! Well Done.\n"
     ]
    }
   ],
   "source": [
    "#Program 43\n",
    "\n",
    "print(\"Guess the hidden number between 1 and 100.\")\n",
    "x = int(input(\"Enter your guess\"))\n",
    "while (x!=52):   \n",
    "    if not(x >= 1 and x<=100):\n",
    "        print(\"Your guess was not valid. Enter it again\")\n",
    "        x = int(input())\n",
    "    if x>52 and x<=100:\n",
    "        print(\"Your guess is too high. Try again\")\n",
    "        x = int(input())\n",
    "    if x<52 and x>=1:\n",
    "        print(\"Your guess is too low. Try again\")\n",
    "        x = int(input())\n",
    "    if x==52:\n",
    "        print(\"Correct! Well Done.\")"
   ]
  },
  {
   "cell_type": "code",
   "execution_count": 14,
   "id": "eb6f2842",
   "metadata": {},
   "outputs": [
    {
     "name": "stdout",
     "output_type": "stream",
     "text": [
      "week 1\n",
      "Please enter the seven temperatures.\n",
      "12\n",
      "14\n",
      "7\n",
      "6\n",
      "66\n",
      "Temperature should be between -40 and 55\n",
      "7\n",
      "11\n",
      "11\n",
      "Week 1 average was:\n",
      "9.71 degrees centigrade\n",
      "week 2\n",
      "Please enter the seven temperatures.\n",
      "14\n",
      "16\n",
      "13\n",
      "10\n",
      "9\n",
      "11\n",
      "8\n",
      "Week 2 average was:\n",
      "11.57 degrees centigrade\n",
      "week 3\n",
      "Please enter the seven temperatures.\n",
      "12\n",
      "10\n",
      "11\n",
      "9\n",
      "13\n",
      "7\n",
      "8\n",
      "Week 3 average was:\n",
      "10.0 degrees centigrade\n",
      "week 4\n",
      "Please enter the seven temperatures.\n",
      "14\n",
      "11\n",
      "13\n",
      "15\n",
      "8\n",
      "9\n",
      "12\n",
      "Week 4 average was:\n",
      "11.71 degrees centigrade\n"
     ]
    }
   ],
   "source": [
    "#Program 44\n",
    "\n",
    "for counter in range(1,5):\n",
    "    print(\"week\",counter)\n",
    "    s = 0\n",
    "    print(\"Please enter the seven temperatures.\")\n",
    "    for loop in range(7):\n",
    "        x = int(input())\n",
    "        while not(x>=-40 and x<=55):\n",
    "            print(\"Temperature should be between -40 and 55\")\n",
    "            x = int(input())\n",
    "        s = s+x\n",
    "        avg = s/7\n",
    "    \n",
    "    print(\"Week\",counter, \"average was:\")\n",
    "    print(round(avg,2),\"degrees centigrade\")"
   ]
  },
  {
   "cell_type": "code",
   "execution_count": 15,
   "id": "0c87fd1a",
   "metadata": {},
   "outputs": [
    {
     "name": "stdout",
     "output_type": "stream",
     "text": [
      "Please enter the scores for player one\n",
      "34\n",
      "26\n",
      "200\n",
      "Invalid score\n",
      "100\n",
      "Please enter the score for player two\n",
      "78\n",
      "80\n",
      "97\n",
      "Player one scored the highest individual score.\n",
      "Player one wins\n"
     ]
    }
   ],
   "source": [
    "#Program 45\n",
    "\n",
    "print(\"Please enter the scores for player one\")\n",
    "for counter in range(3):\n",
    "    c = int(input())\n",
    "    while not(c>=0 and c<=180):\n",
    "        print(\"Invalid score\")\n",
    "        c = int(input())\n",
    "        \n",
    "print(\"Please enter the score for player two\")\n",
    "for counter in range(3):\n",
    "    v = int(input())\n",
    "    while not(v>=0 and v<=180):\n",
    "        print(\"Invalid score\")\n",
    "        v = int(input())\n",
    "        \n",
    "if c>=0 and c<=180 and v>=0 and v<=180 and c>v:\n",
    "    print(\"Player one scored the highest individual score.\")\n",
    "    print(\"Player one wins\")\n",
    "else:\n",
    "    print(\"Player two scored the highest individual score.\")\n",
    "    print(\"Player two wins!!\")"
   ]
  },
  {
   "cell_type": "code",
   "execution_count": 16,
   "id": "e38c050b",
   "metadata": {},
   "outputs": [
    {
     "name": "stdout",
     "output_type": "stream",
     "text": [
      "Mountain Bike\n",
      "Ski Jacket\n",
      "Electric Guitar\n",
      "PS3-500Gb\n",
      "Badminton Racquet\n"
     ]
    }
   ],
   "source": [
    "#Program 46\n",
    "\n",
    "items = [\"Mountain Bike\",\"Ski Jacket\",\"Electric Guitar\",\"PS3-500Gb\",\"Badminton Racquet\"]\n",
    "for loop in range(5):\n",
    "    print(items[loop])"
   ]
  },
  {
   "cell_type": "code",
   "execution_count": 17,
   "id": "b9f3d4bb",
   "metadata": {},
   "outputs": [
    {
     "name": "stdout",
     "output_type": "stream",
     "text": [
      "Mountain Bike - 200\n",
      "Ski Jacket - 67\n",
      "Electric Guitar - 330\n",
      "PS3 - 500Gb - 120\n",
      "Badminton Racquet - 15\n"
     ]
    }
   ],
   "source": [
    "#Program 47\n",
    "\n",
    "items = [\"Mountain Bike\",\"Ski Jacket\",\"Electric Guitar\",\"PS3 - 500Gb\",\"Badminton Racquet\"]\n",
    "prices = [200,67,330,120,15]\n",
    "for loop in range(5):\n",
    "    print(items[loop],\"-\",prices[loop])"
   ]
  },
  {
   "cell_type": "code",
   "execution_count": 19,
   "id": "3f76ed52",
   "metadata": {},
   "outputs": [
    {
     "name": "stdout",
     "output_type": "stream",
     "text": [
      "Please enter the score for each ball.\n",
      "0\n",
      "2\n",
      "0\n",
      "0\n",
      "4\n",
      "6\n",
      "This over's score was: 12\n",
      "With each ball scoring:\n",
      "0\n",
      "2\n",
      "0\n",
      "0\n",
      "4\n",
      "6\n"
     ]
    }
   ],
   "source": [
    "#Program 48\n",
    "\n",
    "print(\"Please enter the score for each ball.\")\n",
    "k = []\n",
    "sum = 0\n",
    "for loop in range(6):\n",
    "    s = int(input())\n",
    "    k.append(s)\n",
    "    sum = sum + s\n",
    "print(\"This over's score was:\",sum)\n",
    "print(\"With each ball scoring:\")\n",
    "for loop in range(6):\n",
    "    print(k[loop])"
   ]
  },
  {
   "cell_type": "code",
   "execution_count": 21,
   "id": "d33267fa",
   "metadata": {},
   "outputs": [
    {
     "name": "stdout",
     "output_type": "stream",
     "text": [
      "Please enter a name Jean Gray\n",
      "Please enter Jean Gray's age: 13\n",
      "Please enter a name Max Eisenhardt\n",
      "Please enter Max Eisenhardt's age: 24\n",
      "Please enter a name James Howlett\n",
      "Please enter James Howlett's age: 15\n",
      "Please enter a name Aleksy Nowak\n",
      "Please enter Aleksy Nowak's age: 9\n",
      "Names and competition List:\n",
      "Jean Gray - Teen\n",
      "Max Eisenhardt - Senior\n",
      "James Howlett - Teen\n",
      "Aleksy Nowak - Junior\n"
     ]
    }
   ],
   "source": [
    "#Program 49\n",
    "\n",
    "k = []\n",
    "s = []\n",
    "for loop in range(4):\n",
    "    n = input(\"Please enter a name \")\n",
    "    k.append(n)\n",
    "    a = int(input(\"Please enter \"+n+\"'s age: \"))\n",
    "    s.append(a)\n",
    "print(\"Names and competition List:\")\n",
    "for loop in range(4):\n",
    "    if s[loop]<12:\n",
    "        print(k[loop],\"- Junior\")\n",
    "    if s[loop]>=12 and s[loop]<=17:\n",
    "        print(k[loop],\"- Teen\")\n",
    "    if s[loop]>=18:\n",
    "        print(k[loop],\"- Senior\")"
   ]
  },
  {
   "cell_type": "code",
   "execution_count": 22,
   "id": "f305cb2d",
   "metadata": {},
   "outputs": [
    {
     "name": "stdout",
     "output_type": "stream",
     "text": [
      "Please enter details of your hourse.\n",
      "Maximum_height:\n",
      "16\n",
      "Maximum_age:\n",
      "15\n",
      "Suitable horses are:\n",
      "Black Beauty , 14 years , 15 hands\n",
      "Francine , 8 years , 14 hands\n",
      "Langrish , 15 years , 14 hands\n",
      "Sierrea , 7 years , 12 hands\n",
      "Valentina , 10 years , 15 hands\n",
      "Stranos , 12 years , 13 hands\n",
      "Pentosa , 9 years , 16 hands\n",
      "Golden Tail , 11 years , 15 hands\n"
     ]
    }
   ],
   "source": [
    "#Program 50\n",
    "\n",
    "print(\"Please enter details of your hourse.\")\n",
    "a = [\"Black Beauty\", \"Francine\", \"Langrish\", \"Sierrea\", \"Valentina\", \"Commando\", \"Stranos\", \"Torpedo\", \"Pentosa\", \"Golden Tail\"]\n",
    "b = [14, 8, 15, 7, 10, 16, 12, 18, 9, 11]\n",
    "c = [15, 14, 14, 12, 15, 16, 13, 12, 16, 15]\n",
    "print(\"Maximum_height:\")\n",
    "Maximum_height = int(input())\n",
    "print(\"Maximum_age:\")\n",
    "Maximum_age = int(input())\n",
    "print(\"Suitable horses are:\")\n",
    "for loop in range(10):\n",
    "    if c[loop] <= Maximum_height and b[loop] <= Maximum_age:\n",
    "        print(a[loop],\",\", b[loop],\"years\",\",\",c[loop],\"hands\")"
   ]
  },
  {
   "cell_type": "code",
   "execution_count": 23,
   "id": "07f04d56",
   "metadata": {},
   "outputs": [
    {
     "name": "stdout",
     "output_type": "stream",
     "text": [
      "House floor area calculator\n",
      "Please enter the number of rooms:3\n",
      "Please enter the name of room 1 :Lounge\n",
      "Please enter the length (m) of room 1 :3.56\n",
      "Please enter the width (m) of room 1 :4.7\n",
      "Please enter the name of room 2 :Kitchen\n",
      "Please enter the length (m) of room 2 :2.26\n",
      "Please enter the width (m) of room 2 :3.69\n",
      "Please enter the name of room 3 :Bedroom\n",
      "Please enter the length (m) of room 3 :4.5\n",
      "Please enter the width (m) of room 3 :4.7\n",
      "House details:\n",
      "Room - Lounge\n",
      "16.7 metres squared\n",
      "Room - Kitchen\n",
      "8.3 metres squared\n",
      "Room - Bedroom\n",
      "21.2 metres squared\n",
      "The total area is calculated as:\n",
      "46.2 metres squared\n"
     ]
    }
   ],
   "source": [
    "#Program 51\n",
    "\n",
    "o = 0\n",
    "i = []\n",
    "j = []\n",
    "k = []\n",
    "area = []\n",
    "print(\"House floor area calculator\")\n",
    "r = int(input(\"Please enter the number of rooms:\"))\n",
    "for counter in range(3):\n",
    "    n = input(\"Please enter the name of room \"+str(counter+1)+\" :\")\n",
    "    i.append(n)\n",
    "    l = float(input(\"Please enter the length (m) of room \"+str(counter+1)+\" :\"))\n",
    "    j.append(l)\n",
    "    w = float(input(\"Please enter the width (m) of room \"+str(counter+1)+\" :\"))\n",
    "    k.append(w)\n",
    "    a = j[counter]*k[counter]\n",
    "    area.append(a)\n",
    "    o = o + area[counter]\n",
    "print(\"House details:\")\n",
    "for counter in range(3):\n",
    "    print(\"Room -\",i[counter])\n",
    "    print(round(area[counter],1),\"metres squared\")\n",
    "print(\"The total area is calculated as:\")\n",
    "print(round(o,1),\"metres squared\")"
   ]
  },
  {
   "cell_type": "code",
   "execution_count": 25,
   "id": "7f9a2d69",
   "metadata": {},
   "outputs": [
    {
     "name": "stdout",
     "output_type": "stream",
     "text": [
      "Who's going?\n",
      "Melissa ?\n",
      "Y\n",
      "Evelyn ?\n",
      "Y\n",
      "Emmy ?\n",
      "N\n",
      "Karen ?\n",
      "N\n",
      "Norma ?\n",
      "Y\n",
      "Dorek ?\n",
      "Y\n",
      "Agnes ?\n",
      "N\n",
      "Billy ?\n",
      "Y\n",
      "Gawet ?\n",
      "Y\n",
      "Arthur ?\n",
      "N\n",
      "Party Attendance List:\n",
      "Melissa\n",
      "Evelyn\n",
      "Norma\n",
      "Dorek\n",
      "Billy\n",
      "Gawet\n"
     ]
    }
   ],
   "source": [
    "#Program 52\n",
    "\n",
    "t = []\n",
    "friends = [\"Melissa\", \"Evelyn\", \"Emmy\", \"Karen\", \"Norma\", \"Dorek\", \"Agnes\", \"Billy\", \"Gawet\", \"Arthur\"]\n",
    "print(\"Who's going?\")\n",
    "for loop in range(10):\n",
    "    r = friends[loop]\n",
    "    print(r,\"?\")\n",
    "    e = input()\n",
    "    if e == \"Y\":\n",
    "        t.append(r)\n",
    "print(\"Party Attendance List:\")\n",
    "for loop in range(len(t)):\n",
    "    print(t[loop])"
   ]
  },
  {
   "cell_type": "code",
   "execution_count": 26,
   "id": "db201943",
   "metadata": {},
   "outputs": [
    {
     "name": "stdout",
     "output_type": "stream",
     "text": [
      "How many members have requested a seat? 5\n",
      "Please enter your name. Hubab\n",
      "Which row would you like to sit in? 2\n",
      "Which seat number would you like to sit in?3\n",
      "Please enter your name. Jessica\n",
      "Which row would you like to sit in? 3\n",
      "Which seat number would you like to sit in?1\n",
      "Please enter your name. Denzell\n",
      "Which row would you like to sit in? 2\n",
      "Which seat number would you like to sit in?1\n",
      "Please enter your name. Andrew\n",
      "Which row would you like to sit in? 5\n",
      "Which seat number would you like to sit in?4\n",
      "Please enter your name. Talisha\n",
      "Which row would you like to sit in? 4\n",
      "Which seat number would you like to sit in?3\n",
      "0.Empty Empty Empty Empty \n",
      "1.Denzell Empty Hubab Empty \n",
      "2.Jessica Empty Empty Empty \n",
      "3.Empty Empty Talisha Empty \n",
      "4.Empty Empty Empty Andrew \n"
     ]
    }
   ],
   "source": [
    "#Program 53\n",
    "\n",
    "seats = [[\"Empty\",\"Empty\",\"Empty\",\"Empty\"] for main in range(5)]\n",
    "n = int(input(\"How many members have requested a seat? \"))\n",
    "for counter in range(5): \n",
    "    name = str(input(\"Please enter your name. \"))\n",
    "    row = int(input(\"Which row would you like to sit in? \"))\n",
    "    seat = int(input(\"Which seat number would you like to sit in?\"))\n",
    "    seats[row-1][seat-1] = name\n",
    "for outer in range(5):\n",
    "    print(str(outer)+\".\",end='')\n",
    "    for inner in range(4):\n",
    "        print(seats[outer][inner],\"\",end='')\n",
    "    print()"
   ]
  },
  {
   "cell_type": "code",
   "execution_count": 27,
   "id": "4eb8cd50",
   "metadata": {},
   "outputs": [
    {
     "name": "stdout",
     "output_type": "stream",
     "text": [
      "Please enter the number of weeds counted at 1,1: 3\n",
      "Please enter the number of weeds counted at 1,2: 0\n",
      "Please enter the number of weeds counted at 1,3: 2\n",
      "Please enter the number of weeds counted at 1,4: 2\n",
      "Please enter the number of weeds counted at 1,5: 0\n",
      "Please enter the number of weeds counted at 2,1: 0\n",
      "Please enter the number of weeds counted at 2,2: 0\n",
      "Please enter the number of weeds counted at 2,3: 0\n",
      "Please enter the number of weeds counted at 2,4: 3\n",
      "Please enter the number of weeds counted at 2,5: 2\n",
      "Please enter the number of weeds counted at 3,1: 0\n",
      "Please enter the number of weeds counted at 3,2: 10\n",
      "Please enter the number of weeds counted at 3,3: 6\n",
      "Please enter the number of weeds counted at 3,4: 5\n",
      "Please enter the number of weeds counted at 3,5: 0\n",
      "Please enter the number of weeds counted at 4,1: 1\n",
      "Please enter the number of weeds counted at 4,2: 1\n",
      "Please enter the number of weeds counted at 4,3: 2\n",
      "Please enter the number of weeds counted at 4,4: 2\n",
      "Please enter the number of weeds counted at 4,5: 7\n",
      "Please enter the number of weeds counted at 5,1: 0\n",
      "Please enter the number of weeds counted at 5,2: 0\n",
      "Please enter the number of weeds counted at 5,3: 5\n",
      "Please enter the number of weeds counted at 5,4: 3\n",
      "Please enter the number of weeds counted at 5,5: 2\n",
      "The results are shown below:\n",
      "3 0 2 2 0 \n",
      "0 0 0 3 2 \n",
      "0 10 6 5 0 \n",
      "1 1 2 2 7 \n",
      "0 0 5 3 2 \n",
      "The total number of weeds found was -  56\n"
     ]
    }
   ],
   "source": [
    "#Program 54\n",
    "\n",
    "r = [[0,0,0,0,0] for main in range(5)]\n",
    "s = 0\n",
    "for counter in range(5):\n",
    "    for loop in range(5):\n",
    "        n = int(input(\"Please enter the number of weeds counted at \"+str(counter+1)+\",\"+str(loop+1)+\": \"))\n",
    "        s = s+n\n",
    "        r[counter][loop] = n\n",
    "print(\"The results are shown below:\")\n",
    "for row in range(5):\n",
    "    for column in range(5):\n",
    "        print(r[row][column],\"\",end='')\n",
    "    print()\n",
    "print(\"The total number of weeds found was - \",s)"
   ]
  },
  {
   "cell_type": "code",
   "execution_count": 29,
   "id": "3a4e60b7",
   "metadata": {},
   "outputs": [
    {
     "name": "stdout",
     "output_type": "stream",
     "text": [
      "Please enter over 1 for Team 1\n",
      "2\n",
      "1\n",
      "0\n",
      "0\n",
      "6\n",
      "6\n",
      "Please enter over 2 for Team 1\n",
      "0\n",
      "4\n",
      "1\n",
      "1\n",
      "0\n",
      "2\n",
      "Please enter over 3 for Team 1\n",
      "2\n",
      "1\n",
      "4\n",
      "4\n",
      "1\n",
      "6\n",
      "Please enter over 1 for Team 2\n",
      "0\n",
      "0\n",
      "4\n",
      "4\n",
      "1\n",
      "2\n",
      "Please enter over 2 for Team 2\n",
      "1\n",
      "2\n",
      "1\n",
      "1\n",
      "4\n",
      "4\n",
      "Please enter over 3 for Team 2\n",
      "6\n",
      "2\n",
      "1\n",
      "0\n",
      "1\n",
      "6\n",
      "Do you wish to calculate the result of another game? N\n",
      "Score for Team 1's three overs:\n",
      "41\n",
      "Score for Team 2's three overs:\n",
      "40\n",
      "Team 1 won the match\n"
     ]
    }
   ],
   "source": [
    "#Program 55\n",
    "\n",
    "sum1 = 0\n",
    "sum2 = 0\n",
    "for counter in range(1,4):\n",
    "    print(\"Please enter over\",counter,\"for Team 1\")\n",
    "    for score in range(6):\n",
    "        s = int(input())\n",
    "        sum1 = sum1+s\n",
    "for loop in range(1,4):\n",
    "    print(\"Please enter over\",loop,\"for Team 2\")\n",
    "    for runs in range(6):\n",
    "        r = int(input())\n",
    "        sum2 = sum2+r\n",
    "n = input(\"Do you wish to calculate the result of another game? \")\n",
    "while n == \"Y\":\n",
    "    for counter in range(1,4):\n",
    "        print(\"Please enter over\",counter,\"for Team 1\")\n",
    "        for score in range(6):\n",
    "            s = int(input())\n",
    "            sum1 = sum1+s\n",
    "    for loop in range(1,4):\n",
    "        print(\"Please enter over\",loop,\"for Team 2\")\n",
    "        for runs in range(6):\n",
    "            r = int(input())\n",
    "            sum2 = sum2+r\n",
    "print(\"Score for Team 1's three overs:\")\n",
    "print(sum1)\n",
    "print(\"Score for Team 2's three overs:\")\n",
    "print(sum2)\n",
    "if sum1 > sum2:\n",
    "    print(\"Team 1 won the match\")\n",
    "else:\n",
    "    print(\"Team 2 won the match\")\n"
   ]
  },
  {
   "cell_type": "code",
   "execution_count": 33,
   "id": "5a91f9d8",
   "metadata": {},
   "outputs": [
    {
     "name": "stdout",
     "output_type": "stream",
     "text": [
      "Guess the hidden number between 1 and 100\n",
      "Enter your guess.45\n",
      "Your guess is too low. Try again\n",
      "Enter your guess.54\n",
      "Your guess is too low. Try again\n",
      "Enter your guess.52\n",
      "Your guess is too low. Try again\n",
      "Enter your guess.0\n",
      "Your guess was not valid. Enter it again.\n",
      "Enter your guess57\n",
      "Your guess is too low. Try again\n",
      "Enter your guess.65\n",
      "Your guess is too low. Try again\n",
      "Enter your guess.78\n",
      "Your guess is too low. Try again\n",
      "Enter your guess.85\n",
      "Your guess is too low. Try again\n",
      "Enter your guess.95\n",
      "Your guess is too low. Try again\n",
      "Enter your guess.100\n",
      "Your guess is too high. Try again\n",
      "Enter your guess.99\n",
      "Your guess is too high. Try again\n",
      "Enter your guess.98\n",
      "Your guess is too high. Try again\n",
      "Enter your guess.97\n",
      "Your guess is too high. Try again\n",
      "Enter your guess.96\n",
      "Correct! Well Done\n"
     ]
    }
   ],
   "source": [
    "#Program 56\n",
    "\n",
    "import random\n",
    "x = random.randint(1,100)\n",
    "guess = 0\n",
    "print(\"Guess the hidden number between 1 and 100\")\n",
    "while x != guess:\n",
    "    guess = int(input(\"Enter your guess.\"))\n",
    "    while guess < 1 or guess > 100:\n",
    "        print(\"Your guess was not valid. Enter it again.\")\n",
    "        guess = int(input(\"Enter your guess\"))\n",
    "    if x == guess:\n",
    "        print(\"Correct! Well Done\")\n",
    "    elif guess < x:\n",
    "        print(\"Your guess is too low. Try again\")\n",
    "    else:\n",
    "        print(\"Your guess is too high. Try again\")"
   ]
  },
  {
   "cell_type": "code",
   "execution_count": 34,
   "id": "98db8017",
   "metadata": {},
   "outputs": [
    {
     "name": "stdout",
     "output_type": "stream",
     "text": [
      "Please enter the donated comics: \n",
      "34\n",
      "56\n",
      "12\n",
      "3\n",
      "Liam now owns issues:\n",
      "[1, 2, 3, 7, 8, 9, 10, 16, 34, 56, 12, 3]\n"
     ]
    }
   ],
   "source": [
    "#Program 57\n",
    "\n",
    "Liam = [1,2,3,7,8,9,10,16]\n",
    "Anita = []\n",
    "print(\"Please enter the donated comics: \")\n",
    "for d in range(4):\n",
    "    donations = int(input())\n",
    "    Anita.append(donations)\n",
    "Liam.extend(Anita)\n",
    "print(\"Liam now owns issues:\")\n",
    "print(Liam)"
   ]
  },
  {
   "cell_type": "code",
   "execution_count": 35,
   "id": "62fcd1cd",
   "metadata": {},
   "outputs": [
    {
     "name": "stdout",
     "output_type": "stream",
     "text": [
      "Do you wish to add (A) or remove (R) a dress? A\n",
      "Please enter a new dress size: 12\n",
      "[12]\n",
      "Do you wish to add (A) or remove (R) a dress? A\n",
      "Please enter a new dress size: 14\n",
      "[12, 14]\n",
      "Do you wish to add (A) or remove (R) a dress? R\n",
      "Please enter a new dress size: 12\n",
      "[14]\n",
      "Do you wish to add (A) or remove (R) a dress? A\n",
      "Please enter a new dress size: 10\n",
      "[14, 10]\n",
      "Do you wish to add (A) or remove (R) a dress? A\n",
      "Please enter a new dress size: 16\n",
      "[14, 10, 16]\n",
      "Do you wish to add (A) or remove (R) a dress? A\n",
      "Please enter a new dress size: 18\n",
      "[14, 10, 16, 18]\n",
      "Do you wish to add (A) or remove (R) a dress? R\n",
      "Please enter a new dress size: 16\n",
      "[14, 10, 18]\n",
      "Do you wish to add (A) or remove (R) a dress? A\n",
      "Please enter a new dress size: 8\n",
      "[14, 10, 18, 8]\n",
      "Do you wish to add (A) or remove (R) a dress? A\n",
      "Please enter a new dress size: 20\n",
      "[14, 10, 18, 8, 20]\n",
      "Do you wish to add (A) or remove (R) a dress? A\n",
      "Please enter a new dress size: 18\n",
      "[14, 10, 18, 8, 20, 18]\n",
      "Do you wish to add (A) or remove (R) a dress? A\n",
      "Please enter a new dress size: 14\n",
      "[14, 10, 18, 8, 20, 18, 14]\n",
      "Do you wish to add (A) or remove (R) a dress? A\n",
      "Please enter a new dress size: 12\n",
      "[14, 10, 18, 8, 20, 18, 14, 12]\n",
      "Do you wish to add (A) or remove (R) a dress? R\n",
      "Please enter a new dress size: 18\n",
      "[14, 10, 8, 20, 18, 14, 12]\n",
      "Do you wish to add (A) or remove (R) a dress? A\n",
      "Please enter a new dress size: 999\n",
      "[14, 10, 8, 20, 18, 14, 12]\n",
      "The largest dress in stock is size 20\n",
      "The smallest dress in stock is size 8\n"
     ]
    }
   ],
   "source": [
    "#Program 58\n",
    "\n",
    "stock = []\n",
    "\n",
    "while True:\n",
    "    a = input(\"Do you wish to add (A) or remove (R) a dress? \")\n",
    "    if a == \"A\":\n",
    "        size = int(input(\"Please enter a new dress size: \"))\n",
    "        if size == 999:\n",
    "            print(stock)\n",
    "            print(\"The largest dress in stock is size\",max(stock))\n",
    "            print(\"The smallest dress in stock is size\",min(stock))\n",
    "            break\n",
    "        else:\n",
    "            stock.append(size)\n",
    "            print(stock)\n",
    "    \n",
    "    if a == \"R\":\n",
    "        size = int(input(\"Please enter a new dress size: \"))\n",
    "        stock.remove(size)\n",
    "        print(stock)\n",
    "        continue\n",
    "    "
   ]
  },
  {
   "cell_type": "code",
   "execution_count": 36,
   "id": "0431b934",
   "metadata": {},
   "outputs": [
    {
     "name": "stdout",
     "output_type": "stream",
     "text": [
      "I have generated two random numbers.\n",
      "Which is the largest, 1 or 2?\n",
      "Enter your choice.\n",
      "1\n",
      "415\n",
      "901\n",
      "I have generated two random numbers.\n",
      "Which is the largest, 1 or 2?\n",
      "Enter your choice.\n",
      "2\n",
      "412\n",
      "848\n",
      "Correct, number 2 was the largest.\n",
      "I have generated two random numbers.\n",
      "Which is the largest, 1 or 2?\n",
      "Enter your choice.\n",
      "2\n",
      "917\n",
      "288\n",
      "I have generated two random numbers.\n",
      "Which is the largest, 1 or 2?\n",
      "Enter your choice.\n",
      "1\n",
      "81\n",
      "862\n",
      "I have generated two random numbers.\n",
      "Which is the largest, 1 or 2?\n",
      "Enter your choice.\n",
      "1\n",
      "222\n",
      "960\n",
      "I have generated two random numbers.\n",
      "Which is the largest, 1 or 2?\n",
      "Enter your choice.\n",
      "2\n",
      "802\n",
      "406\n",
      "I have generated two random numbers.\n",
      "Which is the largest, 1 or 2?\n",
      "Enter your choice.\n",
      "1\n",
      "728\n",
      "333\n",
      "Correct, number 1 was the largest.\n",
      "I have generated two random numbers.\n",
      "Which is the largest, 1 or 2?\n",
      "Enter your choice.\n",
      "2\n",
      "348\n",
      "842\n",
      "Correct, number 2 was the largest.\n",
      "I have generated two random numbers.\n",
      "Which is the largest, 1 or 2?\n",
      "Enter your choice.\n",
      "2\n",
      "793\n",
      "902\n",
      "Correct, number 2 was the largest.\n",
      "I have generated two random numbers.\n",
      "Which is the largest, 1 or 2?\n",
      "Enter your choice.\n",
      "1\n",
      "356\n",
      "278\n",
      "Correct, number 1 was the largest.\n",
      "[1, 1, 1, 1, 1]\n",
      "Your total was 5 correct guesses out of 10.\n",
      "Your final score was 5 correct.\n"
     ]
    }
   ],
   "source": [
    "#Program 59\n",
    "\n",
    "total = []\n",
    "import random\n",
    "\n",
    "for loop in range(10):\n",
    "    number_1 = random.randint(1,1000)\n",
    "    number_2 = random.randint(1,1000)\n",
    "   \n",
    "    print(\"I have generated two random numbers.\")\n",
    "    print(\"Which is the largest, 1 or 2?\")\n",
    "    print(\"Enter your choice.\")\n",
    "    c = int(input())\n",
    "    print(number_1)\n",
    "    print(number_2)\n",
    "    if c == 1 and number_1 > number_2:\n",
    "        print(\"Correct, number 1 was the largest.\")\n",
    "        score = 1\n",
    "        total.append(score)\n",
    "    \n",
    "    if c == 2 and number_2 > number_1:\n",
    "        print(\"Correct, number 2 was the largest.\")\n",
    "        score = 1\n",
    "        total.append(score)\n",
    "\n",
    "print(total)\n",
    "\n",
    "print(\"Your total was\",len(total),\"correct guesses out of 10.\")\n",
    "print(\"Your final score was\",len(total),\"correct.\")"
   ]
  },
  {
   "cell_type": "code",
   "execution_count": 37,
   "id": "4a5d20e1",
   "metadata": {},
   "outputs": [
    {
     "name": "stdout",
     "output_type": "stream",
     "text": [
      "Enter age: 45\n",
      "Enter seat: 27\n",
      "Do you wish to enter another: Y\n",
      "Enter age: 89\n",
      "Enter seat: 4\n",
      "Do you wish to enter another: Y\n",
      "Enter age: 0\n",
      "Enter seat: 17\n",
      "Do you wish to enter another: Y\n",
      "Enter age: 64\n",
      "Enter seat: 30\n",
      "Do you wish to enter another: Y\n",
      "Enter age: 0\n",
      "Enter seat: 12\n",
      "Do you wish to enter another: Y\n",
      "Enter age: 86\n",
      "Enter seat: 19\n",
      "Do you wish to enter another: Y\n",
      "Enter age: 22\n",
      "Enter seat: 50\n",
      "Do you wish to enter another: Y\n",
      "Enter age: 66\n",
      "Enter seat: 7\n",
      "Do you wish to enter another: Y\n",
      "Enter age: 0\n",
      "Enter seat: 39\n",
      "Do you wish to enter another: Y\n",
      "Enter age: 31\n",
      "Enter seat: 15\n",
      "Do you wish to enter another: Y\n",
      "Enter age: 0\n",
      "Enter seat: 1\n",
      "Do you wish to enter another: Y\n",
      "Enter age: 0\n",
      "Enter seat: 44\n",
      "Do you wish to enter another: N\n",
      "[45, 89, 0, 64, 0, 86, 22, 66, 0, 31, 0, 0]\n",
      "[27, 4, 17, 30, 12, 19, 50, 7, 39, 15, 1, 44]\n",
      "The oldest audience member is sitting in seat 4\n",
      "5 audience members did not give their age.\n"
     ]
    }
   ],
   "source": [
    "#Program 60\n",
    "\n",
    "a = []\n",
    "s = []\n",
    "age = int(input(\"Enter age: \"))\n",
    "seat = int(input(\"Enter seat: \"))\n",
    "a.append(age)\n",
    "s.append(seat)\n",
    "c = input(\"Do you wish to enter another: \")\n",
    "while c == \"Y\":\n",
    "    age = int(input(\"Enter age: \"))\n",
    "    seat = int(input(\"Enter seat: \"))\n",
    "    a.append(age)\n",
    "    s.append(seat)\n",
    "    c = input(\"Do you wish to enter another: \")\n",
    "print(a)\n",
    "print(s)\n",
    "m = max(a)\n",
    "x = a.index(m)\n",
    "r = s[x]\n",
    "if c == \"N\":\n",
    "    print(\"The oldest audience member is sitting in seat\", r)\n",
    "z = a.count(0)\n",
    "print(z,\"audience members did not give their age.\")"
   ]
  },
  {
   "cell_type": "code",
   "execution_count": 46,
   "id": "4b2a7d99",
   "metadata": {},
   "outputs": [
    {
     "name": "stdout",
     "output_type": "stream",
     "text": [
      "Please enter the judges' scores: \n",
      "7\n",
      "8\n",
      "6\n",
      "9\n",
      "6\n",
      "8\n",
      "4\n",
      "Please enter the difficulty rating: 3.4\n",
      "[7, 6, 8]\n",
      "The three remaining judges' scores are:\n",
      "7\n",
      "6\n",
      "8\n",
      "The diver's score is:  71.4\n"
     ]
    }
   ],
   "source": [
    "#Program 61\n",
    "\n",
    "l = []\n",
    "sum = 0\n",
    "print(\"Please enter the judges' scores: \")\n",
    "for counter in range(7):\n",
    "    score = int(input())\n",
    "    l.append(score)\n",
    "d = float(input(\"Please enter the difficulty rating: \"))\n",
    "\n",
    "l.remove(max(l))\n",
    "l.remove(max(l))\n",
    "l.remove(min(l))\n",
    "l.remove(min(l))\n",
    "print(l)\n",
    "print(\"The three remaining judges' scores are:\")\n",
    "for loop in range(3):\n",
    "    print(l[loop])\n",
    "    sum = sum+int(l[loop])\n",
    "p = int(sum)*d\n",
    "q = round(p,1)\n",
    "print(\"The diver's score is: \",q)"
   ]
  },
  {
   "cell_type": "code",
   "execution_count": 47,
   "id": "05c3ffb5",
   "metadata": {},
   "outputs": [
    {
     "name": "stdout",
     "output_type": "stream",
     "text": [
      "dice rolled = 5\n",
      "After roll 1 :  [5]\n",
      "dice rolled = 4\n",
      "After roll 2 :  [5, 4]\n",
      "dice rolled = 1\n",
      "After roll 3 :  [5, 4, 1]\n",
      "dice rolled = 5\n",
      "After roll 4 :  [4, 1]\n",
      "dice rolled = 6\n",
      "After roll 5 :  [4, 1, 6]\n",
      "dice rolled = 3\n",
      "After roll 6 :  [4, 1, 6, 3]\n",
      "dice rolled = 6\n",
      "After roll 7 :  [4, 1, 3]\n",
      "dice rolled = 3\n",
      "After roll 8 :  [4, 1]\n",
      "dice rolled = 3\n",
      "After roll 9 :  [4, 1, 3]\n",
      "dice rolled = 6\n",
      "After roll 10 :  [4, 1, 3, 6]\n",
      "dice rolled = 1\n",
      "After roll 11 :  [4, 3, 6]\n",
      "dice rolled = 6\n",
      "After roll 12 :  [4, 3]\n",
      "dice rolled = 6\n",
      "After roll 13 :  [4, 3, 6]\n",
      "dice rolled = 2\n",
      "After roll 14 :  [4, 3, 6, 2]\n",
      "dice rolled = 6\n",
      "After roll 15 :  [4, 3, 2]\n",
      "dice rolled = 3\n",
      "After roll 16 :  [4, 2]\n",
      "dice rolled = 6\n",
      "After roll 17 :  [4, 2, 6]\n",
      "dice rolled = 1\n",
      "After roll 18 :  [4, 2, 6, 1]\n",
      "dice rolled = 1\n",
      "After roll 19 :  [4, 2, 6]\n",
      "dice rolled = 4\n",
      "After roll 20 :  [2, 6]\n",
      "dice rolled = 6\n",
      "After roll 21 :  [2]\n",
      "dice rolled = 2\n",
      "After roll 22 :  []\n",
      "dice rolled = 4\n",
      "After roll 23 :  [4]\n",
      "dice rolled = 4\n",
      "After roll 24 :  []\n",
      "dice rolled = 5\n",
      "After roll 25 :  [5]\n",
      "dice rolled = 4\n",
      "After roll 26 :  [5, 4]\n",
      "dice rolled = 6\n",
      "After roll 27 :  [5, 4, 6]\n",
      "dice rolled = 6\n",
      "After roll 28 :  [5, 4]\n",
      "dice rolled = 4\n",
      "After roll 29 :  [5]\n",
      "dice rolled = 5\n",
      "After roll 30 :  []\n",
      "dice rolled = 2\n",
      "After roll 31 :  [2]\n",
      "dice rolled = 5\n",
      "After roll 32 :  [2, 5]\n",
      "dice rolled = 5\n",
      "After roll 33 :  [2]\n",
      "dice rolled = 5\n",
      "After roll 34 :  [2, 5]\n",
      "dice rolled = 6\n",
      "After roll 35 :  [2, 5, 6]\n",
      "dice rolled = 1\n",
      "After roll 36 :  [2, 5, 6, 1]\n",
      "dice rolled = 4\n",
      "After roll 37 :  [2, 5, 6, 1, 4]\n",
      "dice rolled = 6\n",
      "After roll 38 :  [2, 5, 1, 4]\n",
      "dice rolled = 4\n",
      "After roll 39 :  [2, 5, 1]\n",
      "dice rolled = 2\n",
      "After roll 40 :  [5, 1]\n",
      "dice rolled = 3\n",
      "After roll 41 :  [5, 1, 3]\n",
      "dice rolled = 3\n",
      "After roll 42 :  [5, 1]\n",
      "dice rolled = 3\n",
      "After roll 43 :  [5, 1, 3]\n",
      "dice rolled = 5\n",
      "After roll 44 :  [1, 3]\n",
      "dice rolled = 2\n",
      "After roll 45 :  [1, 3, 2]\n",
      "dice rolled = 4\n",
      "After roll 46 :  [1, 3, 2, 4]\n",
      "dice rolled = 2\n",
      "After roll 47 :  [1, 3, 4]\n",
      "dice rolled = 3\n",
      "After roll 48 :  [1, 4]\n",
      "dice rolled = 2\n",
      "After roll 49 :  [1, 4, 2]\n",
      "dice rolled = 5\n",
      "After roll 50 :  [1, 4, 2, 5]\n",
      "dice rolled = 3\n",
      "After roll 51 :  [1, 4, 2, 5, 3]\n",
      "dice rolled = 2\n",
      "After roll 52 :  [1, 4, 5, 3]\n",
      "dice rolled = 6\n",
      "After roll 53 :  [1, 4, 5, 3, 6]\n",
      "dice rolled = 6\n",
      "After roll 54 :  [1, 4, 5, 3]\n",
      "dice rolled = 2\n",
      "After roll 55 :  [1, 4, 5, 3, 2]\n",
      "dice rolled = 6\n",
      "After roll 56 :  [1, 4, 5, 3, 2, 6]\n",
      "Game completed in 56 rolls of dice.\n"
     ]
    }
   ],
   "source": [
    "#Program 62\n",
    "\n",
    "import random\n",
    "count = 0\n",
    "dice = []\n",
    "while not len(dice) == 6:\n",
    "    count += 1\n",
    "    roll = random.randint(1,6)\n",
    "    print(\"dice rolled =\",roll)\n",
    "    if roll in dice:\n",
    "        dice.remove(roll)\n",
    "    else:\n",
    "        dice.append(roll)\n",
    "    print(\"After roll\",count,\": \",dice)\n",
    "print(\"Game completed in\",count,\"rolls of dice.\")"
   ]
  },
  {
   "cell_type": "code",
   "execution_count": null,
   "id": "87d87657",
   "metadata": {},
   "outputs": [],
   "source": []
  }
 ],
 "metadata": {
  "kernelspec": {
   "display_name": "Python 3",
   "language": "python",
   "name": "python3"
  },
  "language_info": {
   "codemirror_mode": {
    "name": "ipython",
    "version": 3
   },
   "file_extension": ".py",
   "mimetype": "text/x-python",
   "name": "python",
   "nbconvert_exporter": "python",
   "pygments_lexer": "ipython3",
   "version": "3.8.8"
  }
 },
 "nbformat": 4,
 "nbformat_minor": 5
}
